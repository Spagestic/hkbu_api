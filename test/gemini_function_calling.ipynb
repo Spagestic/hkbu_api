{
 "cells": [
  {
   "cell_type": "code",
   "execution_count": 61,
   "metadata": {},
   "outputs": [],
   "source": [
    "import requests\n",
    "import os\n",
    "from dotenv import load_dotenv\n",
    "import json\n",
    "\n",
    "load_dotenv()\n",
    "apiKey = os.getenv(\"HKBU_API_KEY\")\n",
    "basicUrl = os.getenv(\"HKBU_BASIC_URL\")\n",
    "if apiKey is None:\n",
    "    raise ValueError(\"HKBU_API_KEY not found in environment variables\")"
   ]
  },
  {
   "cell_type": "code",
   "execution_count": 62,
   "metadata": {},
   "outputs": [],
   "source": [
    "gemini_models = [\n",
    "    {\n",
    "        \"model\": \"gemini-1.5-pro\",\n",
    "        \"api-version\": \"002\"\n",
    "    },\n",
    "    {\n",
    "        \"model\": \"gemini-1.5-flash\",\n",
    "        \"api-version\": \"002\"\n",
    "    }\n",
    "]\n"
   ]
  },
  {
   "cell_type": "markdown",
   "metadata": {},
   "source": [
    "## Define Function"
   ]
  },
  {
   "cell_type": "code",
   "execution_count": 63,
   "metadata": {},
   "outputs": [],
   "source": [
    "def add_function_declaration(name: str, description: str, parameters: dict):\n",
    "    \"\"\"\n",
    "    Helper function to create a function declaration.\n",
    "    \"\"\"\n",
    "    return {\n",
    "        \"name\": name,\n",
    "        \"description\": description,\n",
    "        \"parameters\": parameters\n",
    "    }\n"
   ]
  },
  {
   "cell_type": "code",
   "execution_count": null,
   "metadata": {},
   "outputs": [],
   "source": [
    "\n",
    "def Gemini(\n",
    "    message: str,\n",
    "    model_name: str = \"gemini-1.5-flash\",\n",
    "    temperature: float = 0.5,\n",
    "    maxOutputTokens: int = 10,\n",
    "    response_mime_type: str = \"application/json\",\n",
    "    response_schema: dict = None,\n",
    "    function_declarations: list = None,  # List of function declarations\n",
    "    tool_choice: str = \"auto\",\n",
    "    allowed_function_names: list = None,\n",
    "):\n",
    "    # Find the model in the gemini_models list\n",
    "    model_info = next((model for model in gemini_models if model[\"model\"] == model_name), None)\n",
    "    \n",
    "    if not model_info:\n",
    "        raise ValueError(f\"Model {model_name} not found in gemini_models list\")\n",
    "    \n",
    "    api_version = model_info['api-version']\n",
    "    \n",
    "    url = f\"{basicUrl}/deployments/{model_name}/generate_content?api-version={api_version}\"\n",
    "    headers = {\n",
    "        'Content-Type': 'application/json',\n",
    "        'accept': 'application/json',\n",
    "        'api-key': apiKey\n",
    "    }\n",
    "    \n",
    "    # Define the contents with the user's message\n",
    "    contents = [{\"role\": \"user\", \"parts\": [{\"text\": message}]}]\n",
    "    \n",
    "    # Define the payload with the generation config and optional response schema\n",
    "    payload = {\n",
    "        'contents': contents,\n",
    "        'generationConfig': {\n",
    "            'maxOutputTokens': maxOutputTokens,\n",
    "            'temperature': temperature,\n",
    "            \"response_mime_type\": response_mime_type,\n",
    "        },\n",
    "        'stream': False,\n",
    "    }\n",
    "    \n",
    "    if function_declarations:\n",
    "        # Validate function_declarations\n",
    "        if not isinstance(function_declarations, list) or not all(isinstance(func, dict) for func in function_declarations):\n",
    "            raise ValueError(\"function_declarations must be a list of dictionaries.\")\n",
    "        \n",
    "        if allowed_function_names is None:\n",
    "            allowed_function_names = [func['name'] for func in function_declarations]\n",
    "        \n",
    "        # Ensure allowed_function_names are valid\n",
    "        declared_function_names = [func['name'] for func in function_declarations]\n",
    "        if not set(allowed_function_names).issubset(set(declared_function_names)):\n",
    "            raise ValueError(\"allowed_function_names contains functions not declared in function_declarations.\")\n",
    "        \n",
    "        # Wrap function_declarations in the required tools structure\n",
    "        tools = [{\n",
    "            \"function_declarations\": function_declarations\n",
    "        }]\n",
    "        \n",
    "        # Configure tools and tool_config\n",
    "        payload[\"tools\"] = tools\n",
    "        payload[\"tool_choice\"] = tool_choice\n",
    "        payload[\"generationConfig\"].pop(\"response_mime_type\", None)\n",
    "        payload[\"generationConfig\"].pop(\"response_schema\", None)\n",
    "        payload[\"tool_config\"] = {\n",
    "            \"function_calling_config\": {\n",
    "                \"mode\": \"ANY\",\n",
    "                \"allowed_function_names\": allowed_function_names\n",
    "            }\n",
    "        }\n",
    "    \n",
    "    if response_schema:\n",
    "        payload['generationConfig']['response_schema'] = response_schema\n",
    "    \n",
    "    # Make the POST request to the API\n",
    "    response = requests.post(url, json=payload, headers=headers)\n",
    "    \n",
    "    # Check the response status code\n",
    "    if response.status_code == 200:\n",
    "        data = response.json()\n",
    "        return data\n",
    "    else:\n",
    "        print(f\"Error: {response.status_code}\")\n",
    "        print(f\"Response: {response.text}\")\n",
    "        return None\n"
   ]
  },
  {
   "cell_type": "code",
   "execution_count": null,
   "metadata": {},
   "outputs": [
    {
     "name": "stdout",
     "output_type": "stream",
     "text": [
      "{\n",
      "  \"candidates\": [\n",
      "    {\n",
      "      \"content\": {\n",
      "        \"role\": \"model\",\n",
      "        \"parts\": [\n",
      "          {\n",
      "            \"functionCall\": {\n",
      "              \"name\": \"get_current_weather\",\n",
      "              \"args\": {\n",
      "                \"location\": \"Boston, MA\"\n",
      "              }\n",
      "            }\n",
      "          }\n",
      "        ]\n",
      "      },\n",
      "      \"finishReason\": \"STOP\",\n",
      "      \"avgLogprobs\": -0.06301789151297675,\n",
      "      \"index\": 0\n",
      "    }\n",
      "  ],\n",
      "  \"usageMetadata\": {\n",
      "    \"promptTokenCount\": 50,\n",
      "    \"candidatesTokenCount\": 9,\n",
      "    \"totalTokenCount\": 59,\n",
      "    \"promptTokensDetails\": [\n",
      "      {\n",
      "        \"modality\": \"TEXT\",\n",
      "        \"tokenCount\": 50\n",
      "      }\n",
      "    ],\n",
      "    \"candidatesTokensDetails\": [\n",
      "      {\n",
      "        \"modality\": \"TEXT\",\n",
      "        \"tokenCount\": 9\n",
      "      }\n",
      "    ]\n",
      "  },\n",
      "  \"modelVersion\": \"gemini-1.5-flash-002\",\n",
      "  \"createTime\": \"2025-02-22T03:26:36.696432Z\",\n",
      "  \"responseId\": \"7EO5Z_DAKv-v-dIP27vK2Ag\"\n",
      "}\n"
     ]
    }
   ],
   "source": [
    "\n",
    "# Example usage\n",
    "message = \"What is the weather like in Boston?\"\n",
    "\n",
    "# Use the helper function to define the function declaration\n",
    "function_declarations = [\n",
    "    add_function_declaration(\n",
    "        name=\"get_current_weather\",\n",
    "        description=\"Get the current weather in a given location\",\n",
    "        parameters={\n",
    "            \"type\": \"object\",\n",
    "            \"properties\": {\n",
    "                \"location\": {\n",
    "                    \"type\": \"string\",\n",
    "                    \"description\": \"The city and state, e.g. San Francisco, CA or a zip code e.g. 95616\"\n",
    "                }\n",
    "            },\n",
    "            \"required\": [\"location\"]\n",
    "        }\n",
    "    )\n",
    "]\n",
    "\n",
    "response = Gemini(\n",
    "    message, \n",
    "    model_name=\"gemini-1.5-flash\",\n",
    "    temperature=0.5,\n",
    "    maxOutputTokens=100,\n",
    "    function_declarations=function_declarations,\n",
    "    tool_choice=\"auto\",\n",
    "    allowed_function_names=[\"get_current_weather\"]\n",
    ")\n",
    "\n",
    "print(json.dumps(response, indent=2))"
   ]
  },
  {
   "cell_type": "code",
   "execution_count": 66,
   "metadata": {},
   "outputs": [],
   "source": [
    "def get_current_weather(location):\n",
    "    if location == \"San Francisco\":\n",
    "        return '{ \"location\": \"San Francisco, CA\", \"temperature\": 65, \"description\": \"Sunny\", \"icon\": \"sunny\", \"humidity\": 70, \"wind\": { \"speed\": 12, \"direction\": \"W\" } }'\n",
    "    elif location == \"Boston, MA\":\n",
    "         return '{ \"location\": \"Boston, MA\", \"temperature\": 38, \"description\": \"Partly Cloudy\", \"icon\": \"partly-cloudy\", \"humidity\": 65, \"wind\": { \"speed\": 10, \"direction\": \"NW\" } }'\n",
    "    else:\n",
    "        return '{ \"location\": \"Unknown\", \"temperature\": 0, \"description\": \"Unknown\", \"icon\": \"unknown\", \"humidity\": 0, \"wind\": { \"speed\": 0, \"direction\": \"N\" } }'"
   ]
  },
  {
   "cell_type": "code",
   "execution_count": 67,
   "metadata": {},
   "outputs": [
    {
     "name": "stdout",
     "output_type": "stream",
     "text": [
      "Called function: get_current_weather\n",
      "Function args: {'location': 'Boston, MA'}\n"
     ]
    }
   ],
   "source": [
    "print(f'Called function: {response[\"candidates\"][0][\"content\"]['parts'][0][\"functionCall\"][\"name\"]}')\n",
    "print(f'Function args: {response[\"candidates\"][0][\"content\"]['parts'][0][\"functionCall\"][\"args\"]}')"
   ]
  },
  {
   "cell_type": "code",
   "execution_count": 68,
   "metadata": {},
   "outputs": [
    {
     "data": {
      "text/plain": [
       "{'location': 'Boston, MA',\n",
       " 'temperature': 38,\n",
       " 'description': 'Partly Cloudy',\n",
       " 'icon': 'partly-cloudy',\n",
       " 'humidity': 65,\n",
       " 'wind': {'speed': 10, 'direction': 'NW'}}"
      ]
     },
     "metadata": {},
     "output_type": "display_data"
    }
   ],
   "source": [
    "# Check the function name that the model responded with, and make an API call to an external system\n",
    "if (response[\"candidates\"][0][\"content\"]['parts'][0][\"functionCall\"][\"name\"] == \"get_current_weather\"):\n",
    "    # Extract the arguments to use in your API call\n",
    "    location = response[\"candidates\"][0][\"content\"]['parts'][0][\"functionCall\"][\"args\"][\"location\"]\n",
    "\n",
    "    # Here you can use your preferred method to make an API request to fetch the current weather, for example:\n",
    "    # api_response = requests.post(weather_api_url, data={\"location\": location})\n",
    "\n",
    "    # In this example, we'll use synthetic data to simulate a response payload from an external API\n",
    "    api_response = get_current_weather(location)\n",
    "    display(json.loads(api_response))"
   ]
  }
 ],
 "metadata": {
  "kernelspec": {
   "display_name": "hkbu_api",
   "language": "python",
   "name": "python3"
  },
  "language_info": {
   "codemirror_mode": {
    "name": "ipython",
    "version": 3
   },
   "file_extension": ".py",
   "mimetype": "text/x-python",
   "name": "python",
   "nbconvert_exporter": "python",
   "pygments_lexer": "ipython3",
   "version": "3.13.2"
  }
 },
 "nbformat": 4,
 "nbformat_minor": 2
}
